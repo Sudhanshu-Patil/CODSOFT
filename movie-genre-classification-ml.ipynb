{
 "cells": [
  {
   "cell_type": "code",
   "execution_count": 1,
   "id": "eaf4311c",
   "metadata": {
    "ExecuteTime": {
     "end_time": "2024-01-27T16:29:39.277868Z",
     "start_time": "2024-01-27T16:29:36.401370Z"
    },
    "execution": {
     "iopub.execute_input": "2024-02-22T17:20:30.615996Z",
     "iopub.status.busy": "2024-02-22T17:20:30.615307Z",
     "iopub.status.idle": "2024-02-22T17:20:33.580450Z",
     "shell.execute_reply": "2024-02-22T17:20:33.579316Z"
    },
    "papermill": {
     "duration": 2.977809,
     "end_time": "2024-02-22T17:20:33.583061",
     "exception": false,
     "start_time": "2024-02-22T17:20:30.605252",
     "status": "completed"
    },
    "tags": []
   },
   "outputs": [],
   "source": [
    "# Importing Libraries\n",
    "import pandas as pd  # Reading Data\n",
    "from sklearn.naive_bayes import MultinomialNB  # The Prediciton Model\n",
    "from sklearn.feature_extraction.text import CountVectorizer  # The transforming To Vector Tool\n",
    "from sklearn.pipeline import Pipeline  # Runing Line by line Tool\n",
    "from sklearn.model_selection import train_test_split  # spiliting tool\n",
    "from sklearn.metrics import confusion_matrix, accuracy_score  # visualization\n",
    "import matplotlib.pyplot as plt  # visualization\n",
    "import seaborn as sn  # visualization\n",
    "import warnings\n",
    "\n",
    "warnings.filterwarnings(\"ignore\")"
   ]
  },
  {
   "cell_type": "code",
   "execution_count": 2,
   "id": "63ea1d1d",
   "metadata": {
    "ExecuteTime": {
     "end_time": "2024-01-27T16:29:40.319708Z",
     "start_time": "2024-01-27T16:29:39.279859Z"
    },
    "execution": {
     "iopub.execute_input": "2024-02-22T17:20:33.599959Z",
     "iopub.status.busy": "2024-02-22T17:20:33.599410Z",
     "iopub.status.idle": "2024-02-22T17:20:36.372894Z",
     "shell.execute_reply": "2024-02-22T17:20:36.371741Z"
    },
    "papermill": {
     "duration": 2.784921,
     "end_time": "2024-02-22T17:20:36.375553",
     "exception": false,
     "start_time": "2024-02-22T17:20:33.590632",
     "status": "completed"
    },
    "tags": []
   },
   "outputs": [],
   "source": [
    "# Reading the Data\n",
    "TestData = pd.read_csv(\"/kaggle/input/genre-classification-dataset/test_data.csv\")\n",
    "TestData = TestData[[\"TITLE\", \"DESCRIPTION\"]]\n",
    "TestDataSol = pd.read_csv(\"/kaggle/input/genre-classification-dataset/test_data_solution.csv\")\n",
    "TrainData = pd.read_csv(\"/kaggle/input/genre-classification-dataset/train_data.csv\")"
   ]
  },
  {
   "cell_type": "code",
   "execution_count": 3,
   "id": "0c7e2658",
   "metadata": {
    "ExecuteTime": {
     "end_time": "2024-01-27T16:29:40.338814Z",
     "start_time": "2024-01-27T16:29:40.322725Z"
    },
    "execution": {
     "iopub.execute_input": "2024-02-22T17:20:36.391963Z",
     "iopub.status.busy": "2024-02-22T17:20:36.391429Z",
     "iopub.status.idle": "2024-02-22T17:20:36.409969Z",
     "shell.execute_reply": "2024-02-22T17:20:36.408801Z"
    },
    "papermill": {
     "duration": 0.029838,
     "end_time": "2024-02-22T17:20:36.412730",
     "exception": false,
     "start_time": "2024-02-22T17:20:36.382892",
     "status": "completed"
    },
    "tags": []
   },
   "outputs": [
    {
     "data": {
      "text/html": [
       "<div>\n",
       "<style scoped>\n",
       "    .dataframe tbody tr th:only-of-type {\n",
       "        vertical-align: middle;\n",
       "    }\n",
       "\n",
       "    .dataframe tbody tr th {\n",
       "        vertical-align: top;\n",
       "    }\n",
       "\n",
       "    .dataframe thead th {\n",
       "        text-align: right;\n",
       "    }\n",
       "</style>\n",
       "<table border=\"1\" class=\"dataframe\">\n",
       "  <thead>\n",
       "    <tr style=\"text-align: right;\">\n",
       "      <th></th>\n",
       "      <th>TITLE</th>\n",
       "      <th>DESCRIPTION</th>\n",
       "    </tr>\n",
       "  </thead>\n",
       "  <tbody>\n",
       "    <tr>\n",
       "      <th>0</th>\n",
       "      <td>Edgar's Lunch (1998)</td>\n",
       "      <td>L.R. Brane loves his life - his car, his apar...</td>\n",
       "    </tr>\n",
       "    <tr>\n",
       "      <th>1</th>\n",
       "      <td>La guerra de papá (1977)</td>\n",
       "      <td>Spain, March 1964: Quico is a very naughty ch...</td>\n",
       "    </tr>\n",
       "    <tr>\n",
       "      <th>2</th>\n",
       "      <td>Off the Beaten Track (2010)</td>\n",
       "      <td>One year in the life of Albin and his family ...</td>\n",
       "    </tr>\n",
       "    <tr>\n",
       "      <th>3</th>\n",
       "      <td>Meu Amigo Hindu (2015)</td>\n",
       "      <td>His father has died, he hasn't spoken with hi...</td>\n",
       "    </tr>\n",
       "    <tr>\n",
       "      <th>4</th>\n",
       "      <td>Er nu zhai (1955)</td>\n",
       "      <td>Before he was known internationally as a mart...</td>\n",
       "    </tr>\n",
       "  </tbody>\n",
       "</table>\n",
       "</div>"
      ],
      "text/plain": [
       "                           TITLE  \\\n",
       "0          Edgar's Lunch (1998)    \n",
       "1      La guerra de papá (1977)    \n",
       "2   Off the Beaten Track (2010)    \n",
       "3        Meu Amigo Hindu (2015)    \n",
       "4             Er nu zhai (1955)    \n",
       "\n",
       "                                         DESCRIPTION  \n",
       "0   L.R. Brane loves his life - his car, his apar...  \n",
       "1   Spain, March 1964: Quico is a very naughty ch...  \n",
       "2   One year in the life of Albin and his family ...  \n",
       "3   His father has died, he hasn't spoken with hi...  \n",
       "4   Before he was known internationally as a mart...  "
      ]
     },
     "execution_count": 3,
     "metadata": {},
     "output_type": "execute_result"
    }
   ],
   "source": [
    "TestData.head()"
   ]
  },
  {
   "cell_type": "code",
   "execution_count": 4,
   "id": "c6355813",
   "metadata": {
    "ExecuteTime": {
     "end_time": "2024-01-27T16:29:40.350288Z",
     "start_time": "2024-01-27T16:29:40.340835Z"
    },
    "execution": {
     "iopub.execute_input": "2024-02-22T17:20:36.429469Z",
     "iopub.status.busy": "2024-02-22T17:20:36.429053Z",
     "iopub.status.idle": "2024-02-22T17:20:36.440937Z",
     "shell.execute_reply": "2024-02-22T17:20:36.439892Z"
    },
    "papermill": {
     "duration": 0.023053,
     "end_time": "2024-02-22T17:20:36.443263",
     "exception": false,
     "start_time": "2024-02-22T17:20:36.420210",
     "status": "completed"
    },
    "tags": []
   },
   "outputs": [
    {
     "data": {
      "text/html": [
       "<div>\n",
       "<style scoped>\n",
       "    .dataframe tbody tr th:only-of-type {\n",
       "        vertical-align: middle;\n",
       "    }\n",
       "\n",
       "    .dataframe tbody tr th {\n",
       "        vertical-align: top;\n",
       "    }\n",
       "\n",
       "    .dataframe thead th {\n",
       "        text-align: right;\n",
       "    }\n",
       "</style>\n",
       "<table border=\"1\" class=\"dataframe\">\n",
       "  <thead>\n",
       "    <tr style=\"text-align: right;\">\n",
       "      <th></th>\n",
       "      <th>Unnamed: 0</th>\n",
       "      <th>TITLE</th>\n",
       "      <th>GENRE</th>\n",
       "      <th>DESCRIPTION</th>\n",
       "    </tr>\n",
       "  </thead>\n",
       "  <tbody>\n",
       "    <tr>\n",
       "      <th>0</th>\n",
       "      <td>1</td>\n",
       "      <td>Edgar's Lunch (1998)</td>\n",
       "      <td>thriller</td>\n",
       "      <td>L.R. Brane loves his life - his car, his apar...</td>\n",
       "    </tr>\n",
       "    <tr>\n",
       "      <th>1</th>\n",
       "      <td>2</td>\n",
       "      <td>La guerra de papá (1977)</td>\n",
       "      <td>comedy</td>\n",
       "      <td>Spain, March 1964: Quico is a very naughty ch...</td>\n",
       "    </tr>\n",
       "    <tr>\n",
       "      <th>2</th>\n",
       "      <td>3</td>\n",
       "      <td>Off the Beaten Track (2010)</td>\n",
       "      <td>documentary</td>\n",
       "      <td>One year in the life of Albin and his family ...</td>\n",
       "    </tr>\n",
       "    <tr>\n",
       "      <th>3</th>\n",
       "      <td>4</td>\n",
       "      <td>Meu Amigo Hindu (2015)</td>\n",
       "      <td>drama</td>\n",
       "      <td>His father has died, he hasn't spoken with hi...</td>\n",
       "    </tr>\n",
       "    <tr>\n",
       "      <th>4</th>\n",
       "      <td>5</td>\n",
       "      <td>Er nu zhai (1955)</td>\n",
       "      <td>drama</td>\n",
       "      <td>Before he was known internationally as a mart...</td>\n",
       "    </tr>\n",
       "  </tbody>\n",
       "</table>\n",
       "</div>"
      ],
      "text/plain": [
       "   Unnamed: 0                          TITLE          GENRE  \\\n",
       "0           1          Edgar's Lunch (1998)       thriller    \n",
       "1           2      La guerra de papá (1977)         comedy    \n",
       "2           3   Off the Beaten Track (2010)    documentary    \n",
       "3           4        Meu Amigo Hindu (2015)          drama    \n",
       "4           5             Er nu zhai (1955)          drama    \n",
       "\n",
       "                                         DESCRIPTION  \n",
       "0   L.R. Brane loves his life - his car, his apar...  \n",
       "1   Spain, March 1964: Quico is a very naughty ch...  \n",
       "2   One year in the life of Albin and his family ...  \n",
       "3   His father has died, he hasn't spoken with hi...  \n",
       "4   Before he was known internationally as a mart...  "
      ]
     },
     "execution_count": 4,
     "metadata": {},
     "output_type": "execute_result"
    }
   ],
   "source": [
    "TestDataSol.head()"
   ]
  },
  {
   "cell_type": "code",
   "execution_count": 5,
   "id": "619453eb",
   "metadata": {
    "ExecuteTime": {
     "end_time": "2024-01-27T16:29:40.362452Z",
     "start_time": "2024-01-27T16:29:40.353308Z"
    },
    "execution": {
     "iopub.execute_input": "2024-02-22T17:20:36.460517Z",
     "iopub.status.busy": "2024-02-22T17:20:36.460126Z",
     "iopub.status.idle": "2024-02-22T17:20:36.472012Z",
     "shell.execute_reply": "2024-02-22T17:20:36.470786Z"
    },
    "papermill": {
     "duration": 0.023217,
     "end_time": "2024-02-22T17:20:36.474218",
     "exception": false,
     "start_time": "2024-02-22T17:20:36.451001",
     "status": "completed"
    },
    "tags": []
   },
   "outputs": [
    {
     "data": {
      "text/html": [
       "<div>\n",
       "<style scoped>\n",
       "    .dataframe tbody tr th:only-of-type {\n",
       "        vertical-align: middle;\n",
       "    }\n",
       "\n",
       "    .dataframe tbody tr th {\n",
       "        vertical-align: top;\n",
       "    }\n",
       "\n",
       "    .dataframe thead th {\n",
       "        text-align: right;\n",
       "    }\n",
       "</style>\n",
       "<table border=\"1\" class=\"dataframe\">\n",
       "  <thead>\n",
       "    <tr style=\"text-align: right;\">\n",
       "      <th></th>\n",
       "      <th>Unnamed: 0</th>\n",
       "      <th>TITLE</th>\n",
       "      <th>GENRE</th>\n",
       "      <th>DESCRIPTION</th>\n",
       "    </tr>\n",
       "  </thead>\n",
       "  <tbody>\n",
       "    <tr>\n",
       "      <th>0</th>\n",
       "      <td>1</td>\n",
       "      <td>Oscar et la dame rose (2009)</td>\n",
       "      <td>drama</td>\n",
       "      <td>Listening in to a conversation between his do...</td>\n",
       "    </tr>\n",
       "    <tr>\n",
       "      <th>1</th>\n",
       "      <td>2</td>\n",
       "      <td>Cupid (1997)</td>\n",
       "      <td>thriller</td>\n",
       "      <td>A brother and sister with a past incestuous r...</td>\n",
       "    </tr>\n",
       "    <tr>\n",
       "      <th>2</th>\n",
       "      <td>3</td>\n",
       "      <td>Young, Wild and Wonderful (1980)</td>\n",
       "      <td>adult</td>\n",
       "      <td>As the bus empties the students for their fie...</td>\n",
       "    </tr>\n",
       "    <tr>\n",
       "      <th>3</th>\n",
       "      <td>4</td>\n",
       "      <td>The Secret Sin (1915)</td>\n",
       "      <td>drama</td>\n",
       "      <td>To help their unemployed father make ends mee...</td>\n",
       "    </tr>\n",
       "    <tr>\n",
       "      <th>4</th>\n",
       "      <td>5</td>\n",
       "      <td>The Unrecovered (2007)</td>\n",
       "      <td>drama</td>\n",
       "      <td>The film's title refers not only to the un-re...</td>\n",
       "    </tr>\n",
       "  </tbody>\n",
       "</table>\n",
       "</div>"
      ],
      "text/plain": [
       "   Unnamed: 0                               TITLE       GENRE  \\\n",
       "0           1       Oscar et la dame rose (2009)       drama    \n",
       "1           2                       Cupid (1997)    thriller    \n",
       "2           3   Young, Wild and Wonderful (1980)       adult    \n",
       "3           4              The Secret Sin (1915)       drama    \n",
       "4           5             The Unrecovered (2007)       drama    \n",
       "\n",
       "                                         DESCRIPTION  \n",
       "0   Listening in to a conversation between his do...  \n",
       "1   A brother and sister with a past incestuous r...  \n",
       "2   As the bus empties the students for their fie...  \n",
       "3   To help their unemployed father make ends mee...  \n",
       "4   The film's title refers not only to the un-re...  "
      ]
     },
     "execution_count": 5,
     "metadata": {},
     "output_type": "execute_result"
    }
   ],
   "source": [
    "TrainData.head()"
   ]
  },
  {
   "cell_type": "code",
   "execution_count": 6,
   "id": "6efe6ae1",
   "metadata": {
    "ExecuteTime": {
     "end_time": "2024-01-27T16:30:29.915888Z",
     "start_time": "2024-01-27T16:29:40.365460Z"
    },
    "execution": {
     "iopub.execute_input": "2024-02-22T17:20:36.492190Z",
     "iopub.status.busy": "2024-02-22T17:20:36.491766Z",
     "iopub.status.idle": "2024-02-22T17:22:53.260626Z",
     "shell.execute_reply": "2024-02-22T17:22:53.259517Z"
    },
    "papermill": {
     "duration": 136.781091,
     "end_time": "2024-02-22T17:22:53.263462",
     "exception": false,
     "start_time": "2024-02-22T17:20:36.482371",
     "status": "completed"
    },
    "tags": []
   },
   "outputs": [],
   "source": [
    "# cleaning The Data\n",
    "import nltk\n",
    "from nltk.stem import LancasterStemmer\n",
    "from nltk.corpus import stopwords\n",
    "import re\n",
    "import string\n",
    "\n",
    "# Initialize stemmer and stopwords\n",
    "stemmer = LancasterStemmer()\n",
    "stop_words = set(stopwords.words(\"english\"))\n",
    "\n",
    "\n",
    "def cleaning_data(text):\n",
    "    text = text.lower()\n",
    "    text = re.sub(r'@\\S+', '', text)\n",
    "    text = re.sub(r'http\\S+', '', text)\n",
    "    text = re.sub(r'.pic\\S+', '', text)\n",
    "    text = re.sub(r'[^a-zA-Z+]', ' ', text)\n",
    "    text = \"\".join([i for i in text if i not in string.punctuation])\n",
    "    words = nltk.word_tokenize(text)\n",
    "    text = \" \".join([i for i in words if i not in stop_words and len(i) > 2])\n",
    "    text = re.sub(r\"\\s+\", \" \", text).strip()\n",
    "    return text\n",
    "\n",
    "\n",
    "TrainData[\"TextCleaning\"] = TrainData[\"DESCRIPTION\"].apply(cleaning_data)\n",
    "TestData[\"TextCleaning\"] = TestData[\"DESCRIPTION\"].apply(cleaning_data)"
   ]
  },
  {
   "cell_type": "code",
   "execution_count": 7,
   "id": "d37b34d7",
   "metadata": {
    "ExecuteTime": {
     "end_time": "2024-01-27T16:30:29.936663Z",
     "start_time": "2024-01-27T16:30:29.917822Z"
    },
    "execution": {
     "iopub.execute_input": "2024-02-22T17:22:53.281958Z",
     "iopub.status.busy": "2024-02-22T17:22:53.281568Z",
     "iopub.status.idle": "2024-02-22T17:22:53.305076Z",
     "shell.execute_reply": "2024-02-22T17:22:53.303821Z"
    },
    "papermill": {
     "duration": 0.035429,
     "end_time": "2024-02-22T17:22:53.307447",
     "exception": false,
     "start_time": "2024-02-22T17:22:53.272018",
     "status": "completed"
    },
    "tags": []
   },
   "outputs": [
    {
     "name": "stdout",
     "output_type": "stream",
     "text": [
      "27\n"
     ]
    },
    {
     "data": {
      "text/plain": [
       "array([' drama ', ' thriller ', ' adult ', ' documentary ', ' comedy ',\n",
       "       ' crime ', ' reality-tv ', ' horror ', ' sport ', ' animation ',\n",
       "       ' action ', ' fantasy ', ' short ', ' sci-fi ', ' music ',\n",
       "       ' adventure ', ' talk-show ', ' western ', ' family ', ' mystery ',\n",
       "       ' history ', ' news ', ' biography ', ' romance ', ' game-show ',\n",
       "       ' musical ', ' war '], dtype=object)"
      ]
     },
     "execution_count": 7,
     "metadata": {},
     "output_type": "execute_result"
    }
   ],
   "source": [
    "# Diffrent Types of Movies\n",
    "print(len(TrainData.GENRE.unique()))\n",
    "TrainData.GENRE.unique()"
   ]
  },
  {
   "cell_type": "code",
   "execution_count": 8,
   "id": "fa674265",
   "metadata": {
    "ExecuteTime": {
     "end_time": "2024-01-27T16:30:29.973224Z",
     "start_time": "2024-01-27T16:30:29.939675Z"
    },
    "execution": {
     "iopub.execute_input": "2024-02-22T17:22:53.325947Z",
     "iopub.status.busy": "2024-02-22T17:22:53.325557Z",
     "iopub.status.idle": "2024-02-22T17:22:53.369088Z",
     "shell.execute_reply": "2024-02-22T17:22:53.368003Z"
    },
    "papermill": {
     "duration": 0.056482,
     "end_time": "2024-02-22T17:22:53.372365",
     "exception": false,
     "start_time": "2024-02-22T17:22:53.315883",
     "status": "completed"
    },
    "tags": []
   },
   "outputs": [
    {
     "name": "stdout",
     "output_type": "stream",
     "text": [
      "Elemnts count :  27\n"
     ]
    },
    {
     "data": {
      "text/html": [
       "<div>\n",
       "<style scoped>\n",
       "    .dataframe tbody tr th:only-of-type {\n",
       "        vertical-align: middle;\n",
       "    }\n",
       "\n",
       "    .dataframe tbody tr th {\n",
       "        vertical-align: top;\n",
       "    }\n",
       "\n",
       "    .dataframe thead th {\n",
       "        text-align: right;\n",
       "    }\n",
       "</style>\n",
       "<table border=\"1\" class=\"dataframe\">\n",
       "  <thead>\n",
       "    <tr style=\"text-align: right;\">\n",
       "      <th></th>\n",
       "      <th>Unnamed: 0</th>\n",
       "      <th>TITLE</th>\n",
       "      <th>DESCRIPTION</th>\n",
       "      <th>TextCleaning</th>\n",
       "      <th>GENRE_n</th>\n",
       "    </tr>\n",
       "  </thead>\n",
       "  <tbody>\n",
       "    <tr>\n",
       "      <th>0</th>\n",
       "      <td>1</td>\n",
       "      <td>Oscar et la dame rose (2009)</td>\n",
       "      <td>Listening in to a conversation between his do...</td>\n",
       "      <td>listening conversation doctor parents year old...</td>\n",
       "      <td>8</td>\n",
       "    </tr>\n",
       "    <tr>\n",
       "      <th>1</th>\n",
       "      <td>2</td>\n",
       "      <td>Cupid (1997)</td>\n",
       "      <td>A brother and sister with a past incestuous r...</td>\n",
       "      <td>brother sister past incestuous relationship cu...</td>\n",
       "      <td>24</td>\n",
       "    </tr>\n",
       "    <tr>\n",
       "      <th>2</th>\n",
       "      <td>3</td>\n",
       "      <td>Young, Wild and Wonderful (1980)</td>\n",
       "      <td>As the bus empties the students for their fie...</td>\n",
       "      <td>bus empties students field trip museum natural...</td>\n",
       "      <td>1</td>\n",
       "    </tr>\n",
       "    <tr>\n",
       "      <th>3</th>\n",
       "      <td>4</td>\n",
       "      <td>The Secret Sin (1915)</td>\n",
       "      <td>To help their unemployed father make ends mee...</td>\n",
       "      <td>help unemployed father make ends meet edith tw...</td>\n",
       "      <td>8</td>\n",
       "    </tr>\n",
       "    <tr>\n",
       "      <th>4</th>\n",
       "      <td>5</td>\n",
       "      <td>The Unrecovered (2007)</td>\n",
       "      <td>The film's title refers not only to the un-re...</td>\n",
       "      <td>film title refers recovered bodies ground zero...</td>\n",
       "      <td>8</td>\n",
       "    </tr>\n",
       "  </tbody>\n",
       "</table>\n",
       "</div>"
      ],
      "text/plain": [
       "   Unnamed: 0                               TITLE  \\\n",
       "0           1       Oscar et la dame rose (2009)    \n",
       "1           2                       Cupid (1997)    \n",
       "2           3   Young, Wild and Wonderful (1980)    \n",
       "3           4              The Secret Sin (1915)    \n",
       "4           5             The Unrecovered (2007)    \n",
       "\n",
       "                                         DESCRIPTION  \\\n",
       "0   Listening in to a conversation between his do...   \n",
       "1   A brother and sister with a past incestuous r...   \n",
       "2   As the bus empties the students for their fie...   \n",
       "3   To help their unemployed father make ends mee...   \n",
       "4   The film's title refers not only to the un-re...   \n",
       "\n",
       "                                        TextCleaning  GENRE_n  \n",
       "0  listening conversation doctor parents year old...        8  \n",
       "1  brother sister past incestuous relationship cu...       24  \n",
       "2  bus empties students field trip museum natural...        1  \n",
       "3  help unemployed father make ends meet edith tw...        8  \n",
       "4  film title refers recovered bodies ground zero...        8  "
      ]
     },
     "execution_count": 8,
     "metadata": {},
     "output_type": "execute_result"
    }
   ],
   "source": [
    "# Encoding Them\n",
    "from sklearn.preprocessing import LabelEncoder\n",
    "\n",
    "GENRElabel = LabelEncoder()\n",
    "TrainData['GENRE_n'] = GENRElabel.fit_transform(TrainData['GENRE'])\n",
    "\n",
    "# droping old coulmn\n",
    "TrainData = TrainData.drop(\"GENRE\", axis=1)\n",
    "\n",
    "print(\"Elemnts count : \", 1 + TrainData.GENRE_n.max())\n",
    "\n",
    "# Displaying the dataframe\n",
    "TrainData.head()"
   ]
  },
  {
   "cell_type": "code",
   "execution_count": 9,
   "id": "4258410e",
   "metadata": {
    "ExecuteTime": {
     "end_time": "2024-01-27T16:30:29.987228Z",
     "start_time": "2024-01-27T16:30:29.978232Z"
    },
    "execution": {
     "iopub.execute_input": "2024-02-22T17:22:53.392513Z",
     "iopub.status.busy": "2024-02-22T17:22:53.392104Z",
     "iopub.status.idle": "2024-02-22T17:22:53.404285Z",
     "shell.execute_reply": "2024-02-22T17:22:53.403209Z"
    },
    "papermill": {
     "duration": 0.025135,
     "end_time": "2024-02-22T17:22:53.406787",
     "exception": false,
     "start_time": "2024-02-22T17:22:53.381652",
     "status": "completed"
    },
    "tags": []
   },
   "outputs": [
    {
     "data": {
      "text/html": [
       "<div>\n",
       "<style scoped>\n",
       "    .dataframe tbody tr th:only-of-type {\n",
       "        vertical-align: middle;\n",
       "    }\n",
       "\n",
       "    .dataframe tbody tr th {\n",
       "        vertical-align: top;\n",
       "    }\n",
       "\n",
       "    .dataframe thead th {\n",
       "        text-align: right;\n",
       "    }\n",
       "</style>\n",
       "<table border=\"1\" class=\"dataframe\">\n",
       "  <thead>\n",
       "    <tr style=\"text-align: right;\">\n",
       "      <th></th>\n",
       "      <th>Unnamed: 0</th>\n",
       "      <th>TITLE</th>\n",
       "      <th>DESCRIPTION</th>\n",
       "      <th>TextCleaning</th>\n",
       "      <th>GENRE_n</th>\n",
       "    </tr>\n",
       "  </thead>\n",
       "  <tbody>\n",
       "    <tr>\n",
       "      <th>0</th>\n",
       "      <td>1</td>\n",
       "      <td>Oscar et la dame rose (2009)</td>\n",
       "      <td>Listening in to a conversation between his do...</td>\n",
       "      <td>listening conversation doctor parents year old...</td>\n",
       "      <td>8</td>\n",
       "    </tr>\n",
       "    <tr>\n",
       "      <th>1</th>\n",
       "      <td>2</td>\n",
       "      <td>Cupid (1997)</td>\n",
       "      <td>A brother and sister with a past incestuous r...</td>\n",
       "      <td>brother sister past incestuous relationship cu...</td>\n",
       "      <td>24</td>\n",
       "    </tr>\n",
       "    <tr>\n",
       "      <th>2</th>\n",
       "      <td>3</td>\n",
       "      <td>Young, Wild and Wonderful (1980)</td>\n",
       "      <td>As the bus empties the students for their fie...</td>\n",
       "      <td>bus empties students field trip museum natural...</td>\n",
       "      <td>1</td>\n",
       "    </tr>\n",
       "    <tr>\n",
       "      <th>3</th>\n",
       "      <td>4</td>\n",
       "      <td>The Secret Sin (1915)</td>\n",
       "      <td>To help their unemployed father make ends mee...</td>\n",
       "      <td>help unemployed father make ends meet edith tw...</td>\n",
       "      <td>8</td>\n",
       "    </tr>\n",
       "    <tr>\n",
       "      <th>4</th>\n",
       "      <td>5</td>\n",
       "      <td>The Unrecovered (2007)</td>\n",
       "      <td>The film's title refers not only to the un-re...</td>\n",
       "      <td>film title refers recovered bodies ground zero...</td>\n",
       "      <td>8</td>\n",
       "    </tr>\n",
       "  </tbody>\n",
       "</table>\n",
       "</div>"
      ],
      "text/plain": [
       "   Unnamed: 0                               TITLE  \\\n",
       "0           1       Oscar et la dame rose (2009)    \n",
       "1           2                       Cupid (1997)    \n",
       "2           3   Young, Wild and Wonderful (1980)    \n",
       "3           4              The Secret Sin (1915)    \n",
       "4           5             The Unrecovered (2007)    \n",
       "\n",
       "                                         DESCRIPTION  \\\n",
       "0   Listening in to a conversation between his do...   \n",
       "1   A brother and sister with a past incestuous r...   \n",
       "2   As the bus empties the students for their fie...   \n",
       "3   To help their unemployed father make ends mee...   \n",
       "4   The film's title refers not only to the un-re...   \n",
       "\n",
       "                                        TextCleaning  GENRE_n  \n",
       "0  listening conversation doctor parents year old...        8  \n",
       "1  brother sister past incestuous relationship cu...       24  \n",
       "2  bus empties students field trip museum natural...        1  \n",
       "3  help unemployed father make ends meet edith tw...        8  \n",
       "4  film title refers recovered bodies ground zero...        8  "
      ]
     },
     "execution_count": 9,
     "metadata": {},
     "output_type": "execute_result"
    }
   ],
   "source": [
    "TrainData.head()"
   ]
  },
  {
   "cell_type": "code",
   "execution_count": 10,
   "id": "ab7dbd37",
   "metadata": {
    "ExecuteTime": {
     "end_time": "2024-01-27T16:30:29.994764Z",
     "start_time": "2024-01-27T16:30:29.990278Z"
    },
    "execution": {
     "iopub.execute_input": "2024-02-22T17:22:53.428172Z",
     "iopub.status.busy": "2024-02-22T17:22:53.427798Z",
     "iopub.status.idle": "2024-02-22T17:22:53.432342Z",
     "shell.execute_reply": "2024-02-22T17:22:53.431493Z"
    },
    "papermill": {
     "duration": 0.018732,
     "end_time": "2024-02-22T17:22:53.434806",
     "exception": false,
     "start_time": "2024-02-22T17:22:53.416074",
     "status": "completed"
    },
    "tags": []
   },
   "outputs": [],
   "source": [
    "# Writing Steps in a model to fiting them using Pipeline\n",
    "clf = Pipeline([('vectorizer', CountVectorizer()), ('nb', MultinomialNB())])"
   ]
  },
  {
   "cell_type": "code",
   "execution_count": 11,
   "id": "44c6964c",
   "metadata": {
    "ExecuteTime": {
     "end_time": "2024-01-27T16:30:33.538238Z",
     "start_time": "2024-01-27T16:30:29.996772Z"
    },
    "execution": {
     "iopub.execute_input": "2024-02-22T17:22:53.455187Z",
     "iopub.status.busy": "2024-02-22T17:22:53.454820Z",
     "iopub.status.idle": "2024-02-22T17:22:58.489848Z",
     "shell.execute_reply": "2024-02-22T17:22:58.488739Z"
    },
    "papermill": {
     "duration": 5.048378,
     "end_time": "2024-02-22T17:22:58.492547",
     "exception": false,
     "start_time": "2024-02-22T17:22:53.444169",
     "status": "completed"
    },
    "tags": []
   },
   "outputs": [
    {
     "data": {
      "text/html": [
       "<style>#sk-container-id-1 {color: black;background-color: white;}#sk-container-id-1 pre{padding: 0;}#sk-container-id-1 div.sk-toggleable {background-color: white;}#sk-container-id-1 label.sk-toggleable__label {cursor: pointer;display: block;width: 100%;margin-bottom: 0;padding: 0.3em;box-sizing: border-box;text-align: center;}#sk-container-id-1 label.sk-toggleable__label-arrow:before {content: \"▸\";float: left;margin-right: 0.25em;color: #696969;}#sk-container-id-1 label.sk-toggleable__label-arrow:hover:before {color: black;}#sk-container-id-1 div.sk-estimator:hover label.sk-toggleable__label-arrow:before {color: black;}#sk-container-id-1 div.sk-toggleable__content {max-height: 0;max-width: 0;overflow: hidden;text-align: left;background-color: #f0f8ff;}#sk-container-id-1 div.sk-toggleable__content pre {margin: 0.2em;color: black;border-radius: 0.25em;background-color: #f0f8ff;}#sk-container-id-1 input.sk-toggleable__control:checked~div.sk-toggleable__content {max-height: 200px;max-width: 100%;overflow: auto;}#sk-container-id-1 input.sk-toggleable__control:checked~label.sk-toggleable__label-arrow:before {content: \"▾\";}#sk-container-id-1 div.sk-estimator input.sk-toggleable__control:checked~label.sk-toggleable__label {background-color: #d4ebff;}#sk-container-id-1 div.sk-label input.sk-toggleable__control:checked~label.sk-toggleable__label {background-color: #d4ebff;}#sk-container-id-1 input.sk-hidden--visually {border: 0;clip: rect(1px 1px 1px 1px);clip: rect(1px, 1px, 1px, 1px);height: 1px;margin: -1px;overflow: hidden;padding: 0;position: absolute;width: 1px;}#sk-container-id-1 div.sk-estimator {font-family: monospace;background-color: #f0f8ff;border: 1px dotted black;border-radius: 0.25em;box-sizing: border-box;margin-bottom: 0.5em;}#sk-container-id-1 div.sk-estimator:hover {background-color: #d4ebff;}#sk-container-id-1 div.sk-parallel-item::after {content: \"\";width: 100%;border-bottom: 1px solid gray;flex-grow: 1;}#sk-container-id-1 div.sk-label:hover label.sk-toggleable__label {background-color: #d4ebff;}#sk-container-id-1 div.sk-serial::before {content: \"\";position: absolute;border-left: 1px solid gray;box-sizing: border-box;top: 0;bottom: 0;left: 50%;z-index: 0;}#sk-container-id-1 div.sk-serial {display: flex;flex-direction: column;align-items: center;background-color: white;padding-right: 0.2em;padding-left: 0.2em;position: relative;}#sk-container-id-1 div.sk-item {position: relative;z-index: 1;}#sk-container-id-1 div.sk-parallel {display: flex;align-items: stretch;justify-content: center;background-color: white;position: relative;}#sk-container-id-1 div.sk-item::before, #sk-container-id-1 div.sk-parallel-item::before {content: \"\";position: absolute;border-left: 1px solid gray;box-sizing: border-box;top: 0;bottom: 0;left: 50%;z-index: -1;}#sk-container-id-1 div.sk-parallel-item {display: flex;flex-direction: column;z-index: 1;position: relative;background-color: white;}#sk-container-id-1 div.sk-parallel-item:first-child::after {align-self: flex-end;width: 50%;}#sk-container-id-1 div.sk-parallel-item:last-child::after {align-self: flex-start;width: 50%;}#sk-container-id-1 div.sk-parallel-item:only-child::after {width: 0;}#sk-container-id-1 div.sk-dashed-wrapped {border: 1px dashed gray;margin: 0 0.4em 0.5em 0.4em;box-sizing: border-box;padding-bottom: 0.4em;background-color: white;}#sk-container-id-1 div.sk-label label {font-family: monospace;font-weight: bold;display: inline-block;line-height: 1.2em;}#sk-container-id-1 div.sk-label-container {text-align: center;}#sk-container-id-1 div.sk-container {/* jupyter's `normalize.less` sets `[hidden] { display: none; }` but bootstrap.min.css set `[hidden] { display: none !important; }` so we also need the `!important` here to be able to override the default hidden behavior on the sphinx rendered scikit-learn.org. See: https://github.com/scikit-learn/scikit-learn/issues/21755 */display: inline-block !important;position: relative;}#sk-container-id-1 div.sk-text-repr-fallback {display: none;}</style><div id=\"sk-container-id-1\" class=\"sk-top-container\"><div class=\"sk-text-repr-fallback\"><pre>Pipeline(steps=[(&#x27;vectorizer&#x27;, CountVectorizer()), (&#x27;nb&#x27;, MultinomialNB())])</pre><b>In a Jupyter environment, please rerun this cell to show the HTML representation or trust the notebook. <br />On GitHub, the HTML representation is unable to render, please try loading this page with nbviewer.org.</b></div><div class=\"sk-container\" hidden><div class=\"sk-item sk-dashed-wrapped\"><div class=\"sk-label-container\"><div class=\"sk-label sk-toggleable\"><input class=\"sk-toggleable__control sk-hidden--visually\" id=\"sk-estimator-id-1\" type=\"checkbox\" ><label for=\"sk-estimator-id-1\" class=\"sk-toggleable__label sk-toggleable__label-arrow\">Pipeline</label><div class=\"sk-toggleable__content\"><pre>Pipeline(steps=[(&#x27;vectorizer&#x27;, CountVectorizer()), (&#x27;nb&#x27;, MultinomialNB())])</pre></div></div></div><div class=\"sk-serial\"><div class=\"sk-item\"><div class=\"sk-estimator sk-toggleable\"><input class=\"sk-toggleable__control sk-hidden--visually\" id=\"sk-estimator-id-2\" type=\"checkbox\" ><label for=\"sk-estimator-id-2\" class=\"sk-toggleable__label sk-toggleable__label-arrow\">CountVectorizer</label><div class=\"sk-toggleable__content\"><pre>CountVectorizer()</pre></div></div></div><div class=\"sk-item\"><div class=\"sk-estimator sk-toggleable\"><input class=\"sk-toggleable__control sk-hidden--visually\" id=\"sk-estimator-id-3\" type=\"checkbox\" ><label for=\"sk-estimator-id-3\" class=\"sk-toggleable__label sk-toggleable__label-arrow\">MultinomialNB</label><div class=\"sk-toggleable__content\"><pre>MultinomialNB()</pre></div></div></div></div></div></div></div>"
      ],
      "text/plain": [
       "Pipeline(steps=[('vectorizer', CountVectorizer()), ('nb', MultinomialNB())])"
      ]
     },
     "execution_count": 11,
     "metadata": {},
     "output_type": "execute_result"
    }
   ],
   "source": [
    "# training the model\n",
    "clf.fit(TrainData.TextCleaning, TrainData.GENRE_n)"
   ]
  },
  {
   "cell_type": "code",
   "execution_count": 12,
   "id": "6309a4bb",
   "metadata": {
    "ExecuteTime": {
     "end_time": "2024-01-27T16:30:36.855615Z",
     "start_time": "2024-01-27T16:30:33.541218Z"
    },
    "execution": {
     "iopub.execute_input": "2024-02-22T17:22:58.514126Z",
     "iopub.status.busy": "2024-02-22T17:22:58.513734Z",
     "iopub.status.idle": "2024-02-22T17:23:02.835368Z",
     "shell.execute_reply": "2024-02-22T17:23:02.834134Z"
    },
    "papermill": {
     "duration": 4.3352,
     "end_time": "2024-02-22T17:23:02.837818",
     "exception": false,
     "start_time": "2024-02-22T17:22:58.502618",
     "status": "completed"
    },
    "tags": []
   },
   "outputs": [
    {
     "name": "stdout",
     "output_type": "stream",
     "text": [
      "Accuracy: 53.75%\n"
     ]
    }
   ],
   "source": [
    "# making prediction of the test\n",
    "y_pred = clf.predict(TestData.TextCleaning)\n",
    "\n",
    "y_true = GENRElabel.fit_transform(TestDataSol['GENRE'])\n",
    "\n",
    "# The model Accuracy\n",
    "accuracy = accuracy_score(y_true, y_pred)\n",
    "print(f\"Accuracy: {accuracy * 100:.2f}%\")"
   ]
  },
  {
   "cell_type": "code",
   "execution_count": 13,
   "id": "ee59541c",
   "metadata": {
    "ExecuteTime": {
     "end_time": "2024-01-27T16:30:36.885831Z",
     "start_time": "2024-01-27T16:30:36.857575Z"
    },
    "execution": {
     "iopub.execute_input": "2024-02-22T17:23:02.859595Z",
     "iopub.status.busy": "2024-02-22T17:23:02.859134Z",
     "iopub.status.idle": "2024-02-22T17:23:02.873219Z",
     "shell.execute_reply": "2024-02-22T17:23:02.871816Z"
    },
    "papermill": {
     "duration": 0.027849,
     "end_time": "2024-02-22T17:23:02.876078",
     "exception": false,
     "start_time": "2024-02-22T17:23:02.848229",
     "status": "completed"
    },
    "tags": []
   },
   "outputs": [
    {
     "name": "stdout",
     "output_type": "stream",
     "text": [
      "Prediction: [' drama ' ' comedy ']\n"
     ]
    }
   ],
   "source": [
    "# Predicting manual\n",
    "Descriptions = [\n",
    "    \"Listening in to a conversation between his doctor and parents, 10-year-old Oscar learns what nobody has the courage to tell him. He only has a few weeks to live. Furious, he refuses to speak to anyone except straight-talking Rose, the lady in pink he meets on the hospital stairs. As Christmas approaches, Rose uses her fantastical experiences as a professional wrestler, her imagination, wit and charm to allow Oscar to live life and love to the full, in the company of his friends Pop Corn, Einstein, Bacon and childhood sweetheart Peggy Blue.\",\n",
    "    \"In tough economic times Max and Joey have all but run out of ideas until, they discover that senior housing is cheap. Not only that but Max's aunt just kicked the bucket and no one knows yet. In a hilarious series that always keeps you on your toes, the two friends take us on a cross-dressing, desperate and endearing ride through being broke.\"\n",
    "]\n",
    "print(\"Prediction:\", GENRElabel.inverse_transform(clf.predict(Descriptions)))"
   ]
  },
  {
   "cell_type": "code",
   "execution_count": 14,
   "id": "4c7462a0",
   "metadata": {
    "ExecuteTime": {
     "end_time": "2024-01-27T16:30:36.906125Z",
     "start_time": "2024-01-27T16:30:36.887846Z"
    },
    "execution": {
     "iopub.execute_input": "2024-02-22T17:23:02.898185Z",
     "iopub.status.busy": "2024-02-22T17:23:02.897751Z",
     "iopub.status.idle": "2024-02-22T17:23:02.917726Z",
     "shell.execute_reply": "2024-02-22T17:23:02.916713Z"
    },
    "papermill": {
     "duration": 0.03823,
     "end_time": "2024-02-22T17:23:02.924490",
     "exception": false,
     "start_time": "2024-02-22T17:23:02.886260",
     "status": "completed"
    },
    "tags": []
   },
   "outputs": [
    {
     "data": {
      "application/vnd.jupyter.widget-view+json": {
       "model_id": "2f3f5915cf994c1c836c941dd5fa09cc",
       "version_major": 2,
       "version_minor": 0
      },
      "text/plain": [
       "Text(value='', layout=Layout(height='30px', width='500px'), placeholder='Enter description')"
      ]
     },
     "metadata": {},
     "output_type": "display_data"
    },
    {
     "data": {
      "application/vnd.jupyter.widget-view+json": {
       "model_id": "7e31581504ca4c2ead2552a66f265dd7",
       "version_major": 2,
       "version_minor": 0
      },
      "text/plain": [
       "Button(description='PREDICT', style=ButtonStyle())"
      ]
     },
     "metadata": {},
     "output_type": "display_data"
    }
   ],
   "source": [
    "# GUI\n",
    "import ipywidgets as widgets\n",
    "from IPython.display import display\n",
    "\n",
    "\n",
    "# Define a function to be called when the button is clicked\n",
    "def on_button_click(b):\n",
    "    text_value = text_box.value\n",
    "    print(\"Film's GENRE is : \",\n",
    "          GENRElabel.inverse_transform([int(clf.predict([text_value]))]))\n",
    "\n",
    "\n",
    "# Create button and text box widgets\n",
    "button = widgets.Button(description=\"PREDICT\")\n",
    "text_box = widgets.Text(placeholder=\"Enter description\")\n",
    "text_box.layout.width = '500px'\n",
    "text_box.layout.height = '30px'\n",
    "\n",
    "# Attach the function to the button click event\n",
    "button.on_click(on_button_click)\n",
    "\n",
    "# Display the widgets\n",
    "display(text_box)\n",
    "display(button)"
   ]
  }
 ],
 "metadata": {
  "kaggle": {
   "accelerator": "none",
   "dataSources": [
    {
     "datasetId": 4363171,
     "sourceId": 7493499,
     "sourceType": "datasetVersion"
    }
   ],
   "dockerImageVersionId": 30646,
   "isGpuEnabled": false,
   "isInternetEnabled": true,
   "language": "python",
   "sourceType": "notebook"
  },
  "kernelspec": {
   "display_name": "Python 3",
   "language": "python",
   "name": "python3"
  },
  "language_info": {
   "codemirror_mode": {
    "name": "ipython",
    "version": 3
   },
   "file_extension": ".py",
   "mimetype": "text/x-python",
   "name": "python",
   "nbconvert_exporter": "python",
   "pygments_lexer": "ipython3",
   "version": "3.10.13"
  },
  "papermill": {
   "default_parameters": {},
   "duration": 156.293579,
   "end_time": "2024-02-22T17:23:03.757637",
   "environment_variables": {},
   "exception": null,
   "input_path": "__notebook__.ipynb",
   "output_path": "__notebook__.ipynb",
   "parameters": {},
   "start_time": "2024-02-22T17:20:27.464058",
   "version": "2.4.0"
  },
  "varInspector": {
   "cols": {
    "lenName": 16,
    "lenType": 16,
    "lenVar": 40
   },
   "kernels_config": {
    "python": {
     "delete_cmd_postfix": "",
     "delete_cmd_prefix": "del ",
     "library": "var_list.py",
     "varRefreshCmd": "print(var_dic_list())"
    },
    "r": {
     "delete_cmd_postfix": ") ",
     "delete_cmd_prefix": "rm(",
     "library": "var_list.r",
     "varRefreshCmd": "cat(var_dic_list()) "
    }
   },
   "types_to_exclude": [
    "module",
    "function",
    "builtin_function_or_method",
    "instance",
    "_Feature"
   ],
   "window_display": false
  },
  "widgets": {
   "application/vnd.jupyter.widget-state+json": {
    "state": {
     "0470b436bc5f4eb8bb64ff0b54e5ba5f": {
      "model_module": "@jupyter-widgets/base",
      "model_module_version": "1.2.0",
      "model_name": "LayoutModel",
      "state": {
       "_model_module": "@jupyter-widgets/base",
       "_model_module_version": "1.2.0",
       "_model_name": "LayoutModel",
       "_view_count": null,
       "_view_module": "@jupyter-widgets/base",
       "_view_module_version": "1.2.0",
       "_view_name": "LayoutView",
       "align_content": null,
       "align_items": null,
       "align_self": null,
       "border": null,
       "bottom": null,
       "display": null,
       "flex": null,
       "flex_flow": null,
       "grid_area": null,
       "grid_auto_columns": null,
       "grid_auto_flow": null,
       "grid_auto_rows": null,
       "grid_column": null,
       "grid_gap": null,
       "grid_row": null,
       "grid_template_areas": null,
       "grid_template_columns": null,
       "grid_template_rows": null,
       "height": null,
       "justify_content": null,
       "justify_items": null,
       "left": null,
       "margin": null,
       "max_height": null,
       "max_width": null,
       "min_height": null,
       "min_width": null,
       "object_fit": null,
       "object_position": null,
       "order": null,
       "overflow": null,
       "overflow_x": null,
       "overflow_y": null,
       "padding": null,
       "right": null,
       "top": null,
       "visibility": null,
       "width": null
      }
     },
     "2f3f5915cf994c1c836c941dd5fa09cc": {
      "model_module": "@jupyter-widgets/controls",
      "model_module_version": "1.5.0",
      "model_name": "TextModel",
      "state": {
       "_dom_classes": [],
       "_model_module": "@jupyter-widgets/controls",
       "_model_module_version": "1.5.0",
       "_model_name": "TextModel",
       "_view_count": null,
       "_view_module": "@jupyter-widgets/controls",
       "_view_module_version": "1.5.0",
       "_view_name": "TextView",
       "continuous_update": true,
       "description": "",
       "description_tooltip": null,
       "disabled": false,
       "layout": "IPY_MODEL_6212d2d67f0241cebd56461a87a1bde2",
       "placeholder": "Enter description",
       "style": "IPY_MODEL_e88ef2ff27314b319b8486dcb829ee59",
       "value": ""
      }
     },
     "6212d2d67f0241cebd56461a87a1bde2": {
      "model_module": "@jupyter-widgets/base",
      "model_module_version": "1.2.0",
      "model_name": "LayoutModel",
      "state": {
       "_model_module": "@jupyter-widgets/base",
       "_model_module_version": "1.2.0",
       "_model_name": "LayoutModel",
       "_view_count": null,
       "_view_module": "@jupyter-widgets/base",
       "_view_module_version": "1.2.0",
       "_view_name": "LayoutView",
       "align_content": null,
       "align_items": null,
       "align_self": null,
       "border": null,
       "bottom": null,
       "display": null,
       "flex": null,
       "flex_flow": null,
       "grid_area": null,
       "grid_auto_columns": null,
       "grid_auto_flow": null,
       "grid_auto_rows": null,
       "grid_column": null,
       "grid_gap": null,
       "grid_row": null,
       "grid_template_areas": null,
       "grid_template_columns": null,
       "grid_template_rows": null,
       "height": "30px",
       "justify_content": null,
       "justify_items": null,
       "left": null,
       "margin": null,
       "max_height": null,
       "max_width": null,
       "min_height": null,
       "min_width": null,
       "object_fit": null,
       "object_position": null,
       "order": null,
       "overflow": null,
       "overflow_x": null,
       "overflow_y": null,
       "padding": null,
       "right": null,
       "top": null,
       "visibility": null,
       "width": "500px"
      }
     },
     "6a75686f60064dd2ac5a0a02f7f11926": {
      "model_module": "@jupyter-widgets/controls",
      "model_module_version": "1.5.0",
      "model_name": "ButtonStyleModel",
      "state": {
       "_model_module": "@jupyter-widgets/controls",
       "_model_module_version": "1.5.0",
       "_model_name": "ButtonStyleModel",
       "_view_count": null,
       "_view_module": "@jupyter-widgets/base",
       "_view_module_version": "1.2.0",
       "_view_name": "StyleView",
       "button_color": null,
       "font_weight": ""
      }
     },
     "7e31581504ca4c2ead2552a66f265dd7": {
      "model_module": "@jupyter-widgets/controls",
      "model_module_version": "1.5.0",
      "model_name": "ButtonModel",
      "state": {
       "_dom_classes": [],
       "_model_module": "@jupyter-widgets/controls",
       "_model_module_version": "1.5.0",
       "_model_name": "ButtonModel",
       "_view_count": null,
       "_view_module": "@jupyter-widgets/controls",
       "_view_module_version": "1.5.0",
       "_view_name": "ButtonView",
       "button_style": "",
       "description": "PREDICT",
       "disabled": false,
       "icon": "",
       "layout": "IPY_MODEL_0470b436bc5f4eb8bb64ff0b54e5ba5f",
       "style": "IPY_MODEL_6a75686f60064dd2ac5a0a02f7f11926",
       "tooltip": ""
      }
     },
     "e88ef2ff27314b319b8486dcb829ee59": {
      "model_module": "@jupyter-widgets/controls",
      "model_module_version": "1.5.0",
      "model_name": "DescriptionStyleModel",
      "state": {
       "_model_module": "@jupyter-widgets/controls",
       "_model_module_version": "1.5.0",
       "_model_name": "DescriptionStyleModel",
       "_view_count": null,
       "_view_module": "@jupyter-widgets/base",
       "_view_module_version": "1.2.0",
       "_view_name": "StyleView",
       "description_width": ""
      }
     }
    },
    "version_major": 2,
    "version_minor": 0
   }
  }
 },
 "nbformat": 4,
 "nbformat_minor": 5
}
